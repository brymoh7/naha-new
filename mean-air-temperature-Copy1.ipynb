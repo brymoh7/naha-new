{
 "cells": [
  {
   "cell_type": "code",
   "execution_count": 1,
   "id": "common-switzerland",
   "metadata": {},
   "outputs": [],
   "source": [
    "#import libraries\n",
    "import pandas as pd\n",
    "from sklearn.model_selection import TimeSeriesSplit\n",
    "from sklearn.linear_model import LinearRegression\n",
    "from sklearn.neural_network import MLPRegressor\n",
    "from sklearn.neighbors import KNeighborsRegressor\n",
    "from sklearn.ensemble import RandomForestRegressor\n",
    "from sklearn.svm import SVR\n",
    "from sklearn.model_selection import cross_val_score\n",
    "import matplotlib.pyplot as plt\n",
    "import numpy as np\n",
    "import sklearn.metrics as metrics\n",
    "from sklearn.metrics import make_scorer\n",
    "from sklearn.model_selection import GridSearchCV\n",
    "import seaborn as sns"
   ]
  },
  {
   "cell_type": "code",
   "execution_count": 2,
   "id": "yellow-albert",
   "metadata": {},
   "outputs": [],
   "source": [
    "data = pd.read_csv('mean-air-temperature.csv') #load the dataset"
   ]
  },
  {
   "cell_type": "code",
   "execution_count": 3,
   "id": "correct-competition",
   "metadata": {},
   "outputs": [
    {
     "data": {
      "text/plain": [
       "date                            datetime64[ns]\n",
       "total_precipitation                    float64\n",
       "mean_wind_speed                        float64\n",
       "mean_relative_humidity                 float64\n",
       "percentage_possible_sunshine           float64\n",
       "total_sunshine_duration                float64\n",
       "solar_radiation                        float64\n",
       "mean_air_temperature                   float64\n",
       "dtype: object"
      ]
     },
     "execution_count": 3,
     "metadata": {},
     "output_type": "execute_result"
    }
   ],
   "source": [
    "# to explicitly convert the date column to type DATETIME\n",
    "data['date'] = pd.to_datetime(data['date'], dayfirst=True)\n",
    "data.dtypes"
   ]
  },
  {
   "cell_type": "code",
   "execution_count": 4,
   "id": "placed-market",
   "metadata": {},
   "outputs": [],
   "source": [
    "data = data.set_index('date') #set the index of the dataset as the date"
   ]
  },
  {
   "cell_type": "code",
   "execution_count": 5,
   "id": "right-charge",
   "metadata": {},
   "outputs": [
    {
     "name": "stderr",
     "output_type": "stream",
     "text": [
      "c:\\users\\user\\appdata\\local\\programs\\python\\python38\\lib\\site-packages\\pandas\\core\\indexing.py:1597: SettingWithCopyWarning: \n",
      "A value is trying to be set on a copy of a slice from a DataFrame.\n",
      "Try using .loc[row_indexer,col_indexer] = value instead\n",
      "\n",
      "See the caveats in the documentation: https://pandas.pydata.org/pandas-docs/stable/user_guide/indexing.html#returning-a-view-versus-a-copy\n",
      "  self.obj[key] = value\n",
      "c:\\users\\user\\appdata\\local\\programs\\python\\python38\\lib\\site-packages\\pandas\\core\\indexing.py:1676: SettingWithCopyWarning: \n",
      "A value is trying to be set on a copy of a slice from a DataFrame.\n",
      "Try using .loc[row_indexer,col_indexer] = value instead\n",
      "\n",
      "See the caveats in the documentation: https://pandas.pydata.org/pandas-docs/stable/user_guide/indexing.html#returning-a-view-versus-a-copy\n",
      "  self._setitem_single_column(ilocs[0], value, pi)\n"
     ]
    },
    {
     "data": {
      "text/html": [
       "<div>\n",
       "<style scoped>\n",
       "    .dataframe tbody tr th:only-of-type {\n",
       "        vertical-align: middle;\n",
       "    }\n",
       "\n",
       "    .dataframe tbody tr th {\n",
       "        vertical-align: top;\n",
       "    }\n",
       "\n",
       "    .dataframe thead th {\n",
       "        text-align: right;\n",
       "    }\n",
       "</style>\n",
       "<table border=\"1\" class=\"dataframe\">\n",
       "  <thead>\n",
       "    <tr style=\"text-align: right;\">\n",
       "      <th></th>\n",
       "      <th>mean_air_temperature</th>\n",
       "      <th>last_month</th>\n",
       "    </tr>\n",
       "    <tr>\n",
       "      <th>date</th>\n",
       "      <th></th>\n",
       "      <th></th>\n",
       "    </tr>\n",
       "  </thead>\n",
       "  <tbody>\n",
       "    <tr>\n",
       "      <th>2010-02-01</th>\n",
       "      <td>18.3</td>\n",
       "      <td>16.8</td>\n",
       "    </tr>\n",
       "    <tr>\n",
       "      <th>2010-03-01</th>\n",
       "      <td>19.9</td>\n",
       "      <td>18.3</td>\n",
       "    </tr>\n",
       "    <tr>\n",
       "      <th>2010-04-01</th>\n",
       "      <td>21.2</td>\n",
       "      <td>19.9</td>\n",
       "    </tr>\n",
       "    <tr>\n",
       "      <th>2010-05-01</th>\n",
       "      <td>23.8</td>\n",
       "      <td>21.2</td>\n",
       "    </tr>\n",
       "    <tr>\n",
       "      <th>2010-06-01</th>\n",
       "      <td>26.7</td>\n",
       "      <td>23.8</td>\n",
       "    </tr>\n",
       "    <tr>\n",
       "      <th>...</th>\n",
       "      <td>...</td>\n",
       "      <td>...</td>\n",
       "    </tr>\n",
       "    <tr>\n",
       "      <th>2021-07-01</th>\n",
       "      <td>24.5</td>\n",
       "      <td>21.9</td>\n",
       "    </tr>\n",
       "    <tr>\n",
       "      <th>2021-08-01</th>\n",
       "      <td>25.5</td>\n",
       "      <td>24.5</td>\n",
       "    </tr>\n",
       "    <tr>\n",
       "      <th>2021-09-01</th>\n",
       "      <td>24.3</td>\n",
       "      <td>25.5</td>\n",
       "    </tr>\n",
       "    <tr>\n",
       "      <th>2021-10-01</th>\n",
       "      <td>25.9</td>\n",
       "      <td>24.3</td>\n",
       "    </tr>\n",
       "    <tr>\n",
       "      <th>2021-11-01</th>\n",
       "      <td>25.7</td>\n",
       "      <td>25.9</td>\n",
       "    </tr>\n",
       "  </tbody>\n",
       "</table>\n",
       "<p>142 rows × 2 columns</p>\n",
       "</div>"
      ],
      "text/plain": [
       "            mean_air_temperature  last_month\n",
       "date                                        \n",
       "2010-02-01                  18.3        16.8\n",
       "2010-03-01                  19.9        18.3\n",
       "2010-04-01                  21.2        19.9\n",
       "2010-05-01                  23.8        21.2\n",
       "2010-06-01                  26.7        23.8\n",
       "...                          ...         ...\n",
       "2021-07-01                  24.5        21.9\n",
       "2021-08-01                  25.5        24.5\n",
       "2021-09-01                  24.3        25.5\n",
       "2021-10-01                  25.9        24.3\n",
       "2021-11-01                  25.7        25.9\n",
       "\n",
       "[142 rows x 2 columns]"
      ]
     },
     "execution_count": 5,
     "metadata": {},
     "output_type": "execute_result"
    }
   ],
   "source": [
    "data_mean_air_temperature = data[['mean_air_temperature']] # creating new dataframe from total_sunshine_duration column\n",
    "data_mean_air_temperature.loc[:,'last_month'] = data_mean_air_temperature.loc[:,'mean_air_temperature'].shift() # inserting new column with last month's mean_air_temperature values\n",
    "data_mean_air_temperature = data_mean_air_temperature.dropna() # dropping NAs\n",
    "data_mean_air_temperature"
   ]
  },
  {
   "cell_type": "code",
   "execution_count": 6,
   "id": "stopped-prompt",
   "metadata": {},
   "outputs": [],
   "source": [
    "def rmse(actual, predict):\n",
    "    predict = np.array(predict)\n",
    "    actual = np.array(actual)\n",
    "    distance = predict - actual\n",
    "    square_distance = distance ** 2\n",
    "    mean_square_distance = square_distance.mean()\n",
    "    score = np.sqrt(mean_square_distance)\n",
    "    return score\n",
    "rmse_score = make_scorer(rmse, greater_is_better = False)"
   ]
  },
  {
   "cell_type": "code",
   "execution_count": 7,
   "id": "swedish-acrobat",
   "metadata": {},
   "outputs": [],
   "source": [
    "X_train = data_mean_air_temperature.drop(['mean_air_temperature'], axis = 1)\n",
    "y_train = data_mean_air_temperature.loc[:'2021', 'mean_air_temperature']"
   ]
  },
  {
   "cell_type": "code",
   "execution_count": 8,
   "id": "bacterial-syndrome",
   "metadata": {},
   "outputs": [
    {
     "data": {
      "text/plain": [
       "date\n",
       "2010-02-01    18.3\n",
       "2010-03-01    19.9\n",
       "2010-04-01    21.2\n",
       "2010-05-01    23.8\n",
       "2010-06-01    26.7\n",
       "              ... \n",
       "2021-07-01    24.5\n",
       "2021-08-01    25.5\n",
       "2021-09-01    24.3\n",
       "2021-10-01    25.9\n",
       "2021-11-01    25.7\n",
       "Name: mean_air_temperature, Length: 142, dtype: float64"
      ]
     },
     "execution_count": 8,
     "metadata": {},
     "output_type": "execute_result"
    }
   ],
   "source": [
    "y_train"
   ]
  },
  {
   "cell_type": "code",
   "execution_count": 9,
   "id": "specialized-deviation",
   "metadata": {},
   "outputs": [
    {
     "name": "stdout",
     "output_type": "stream",
     "text": [
      "[25.00474537]\n"
     ]
    }
   ],
   "source": [
    "test_data = pd.read_csv('predicted-mean-air-temperature.csv')\n",
    "test_data = test_data.set_index('date')\n",
    "X_test = test_data.drop(['mean_air_temperature'], axis = 1)\n",
    "model = RandomForestRegressor()\n",
    "param_search = { \n",
    "    'n_estimators': [20, 50, 100],\n",
    "    'max_features': ['auto', 'sqrt', 'log2'],\n",
    "    'max_depth' : [i for i in range(5,15)]\n",
    "}\n",
    "tscv = TimeSeriesSplit(n_splits=10)\n",
    "gsearch = GridSearchCV(estimator=model, cv=tscv, param_grid=param_search, scoring = rmse_score)\n",
    "gsearch.fit(X_train, y_train)\n",
    "best_model = gsearch.best_estimator_\n",
    "y_pred = best_model.predict(X_test)\n",
    "print(y_pred)"
   ]
  },
  {
   "cell_type": "code",
   "execution_count": 14,
   "id": "greater-optics",
   "metadata": {},
   "outputs": [
    {
     "data": {
      "text/html": [
       "<div>\n",
       "<style scoped>\n",
       "    .dataframe tbody tr th:only-of-type {\n",
       "        vertical-align: middle;\n",
       "    }\n",
       "\n",
       "    .dataframe tbody tr th {\n",
       "        vertical-align: top;\n",
       "    }\n",
       "\n",
       "    .dataframe thead th {\n",
       "        text-align: right;\n",
       "    }\n",
       "</style>\n",
       "<table border=\"1\" class=\"dataframe\">\n",
       "  <thead>\n",
       "    <tr style=\"text-align: right;\">\n",
       "      <th></th>\n",
       "      <th>date</th>\n",
       "      <th>last_month</th>\n",
       "      <th>mean_air_temperature</th>\n",
       "    </tr>\n",
       "  </thead>\n",
       "  <tbody>\n",
       "    <tr>\n",
       "      <th>0</th>\n",
       "      <td>Jan-22</td>\n",
       "      <td>25.0</td>\n",
       "      <td>27.4</td>\n",
       "    </tr>\n",
       "    <tr>\n",
       "      <th>1</th>\n",
       "      <td>Feb-22</td>\n",
       "      <td>NaN</td>\n",
       "      <td>25.3</td>\n",
       "    </tr>\n",
       "    <tr>\n",
       "      <th>2</th>\n",
       "      <td>Mar-22</td>\n",
       "      <td>NaN</td>\n",
       "      <td>23.2</td>\n",
       "    </tr>\n",
       "    <tr>\n",
       "      <th>3</th>\n",
       "      <td>Apr-22</td>\n",
       "      <td>NaN</td>\n",
       "      <td>21.1</td>\n",
       "    </tr>\n",
       "    <tr>\n",
       "      <th>4</th>\n",
       "      <td>May-22</td>\n",
       "      <td>NaN</td>\n",
       "      <td>20.8</td>\n",
       "    </tr>\n",
       "  </tbody>\n",
       "</table>\n",
       "</div>"
      ],
      "text/plain": [
       "     date  last_month  mean_air_temperature\n",
       "0  Jan-22        25.0                  27.4\n",
       "1  Feb-22         NaN                  25.3\n",
       "2  Mar-22         NaN                  23.2\n",
       "3  Apr-22         NaN                  21.1\n",
       "4  May-22         NaN                  20.8"
      ]
     },
     "execution_count": 14,
     "metadata": {},
     "output_type": "execute_result"
    }
   ],
   "source": [
    "predicted_data = pd.read_csv('predicted-mean-air-temperature.csv')\n",
    "predicted_data.head()"
   ]
  },
  {
   "cell_type": "code",
   "execution_count": 15,
   "id": "invalid-discovery",
   "metadata": {},
   "outputs": [
    {
     "data": {
      "image/png": "[encoded data removed]",
      "text/plain": [
       "<Figure size 1440x360 with 1 Axes>"
      ]
     },
     "metadata": {
      "needs_background": "light"
     },
     "output_type": "display_data"
    }
   ],
   "source": [
    "fig = plt.figure() # create an empty figure\n",
    "plt.bar(predicted_data['date'], predicted_data['mean_air_temperature']) #set the dates as the x-axis and the mean_air_temperature as the y-axis\n",
    "plt.ylabel(\"Mean air temperature\") # set the label for the y-axis\n",
    "plt.xlabel(\"Dates\") # set the label for the x-axis\n",
    "fig.set_size_inches(20, 5) #set the size of the figure\n",
    "plt.show()"
   ]
  },
  {
   "cell_type": "code",
   "execution_count": null,
   "id": "guided-adams",
   "metadata": {},
   "outputs": [],
   "source": []
  }
 ],
 "metadata": {
  "kernelspec": {
   "display_name": "Python 3",
   "language": "python",
   "name": "python3"
  },
  "language_info": {
   "codemirror_mode": {
    "name": "ipython",
    "version": 3
   },
   "file_extension": ".py",
   "mimetype": "text/x-python",
   "name": "python",
   "nbconvert_exporter": "python",
   "pygments_lexer": "ipython3",
   "version": "3.8.8"
  }
 },
 "nbformat": 4,
 "nbformat_minor": 5
}
